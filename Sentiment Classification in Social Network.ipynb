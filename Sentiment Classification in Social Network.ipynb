{
  "cells": [
    {
      "metadata": {
        "_cell_guid": "79c7e3d0-c299-4dcb-8224-4455121ee9b0",
        "collapsed": true,
        "_uuid": "d629ff2d2480ee46fbb7e2d37f6b5fab8052498a",
        "trusted": false
      },
      "cell_type": "markdown",
      "source": "# Sentiment Classification"
    },
    {
      "metadata": {
        "trusted": true,
        "collapsed": true,
        "_uuid": "4334c9e7401e84862defa71ba574b05742f7ec1f"
      },
      "cell_type": "code",
      "source": "import numpy as np\nimport pandas as pd\nimport matplotlib.pyplot as plt",
      "execution_count": 1,
      "outputs": []
    },
    {
      "metadata": {
        "_uuid": "041d67561bef921c9dd5c63abba9e6be0866d3e9"
      },
      "cell_type": "markdown",
      "source": "## Read data"
    },
    {
      "metadata": {
        "trusted": true,
        "collapsed": true,
        "_uuid": "96b662c0f35802f5df118bfc6b3a504558136741"
      },
      "cell_type": "code",
      "source": "data_train = pd.read_csv('../input/train.csv')\ndata_test = pd.read_csv('../input/test.csv')",
      "execution_count": 2,
      "outputs": []
    },
    {
      "metadata": {
        "trusted": true,
        "_uuid": "758f67199e7b44e9e0bcb033d3a4a0374d80453b"
      },
      "cell_type": "code",
      "source": "data_train.head()",
      "execution_count": 3,
      "outputs": [
        {
          "output_type": "execute_result",
          "execution_count": 3,
          "data": {
            "text/plain": "                                            sentence  label\n0    Ok brokeback mountain is such a horrible movie.      0\n1                 Brokeback Mountain was so awesome.      1\n2  friday hung out with kelsie and we went and sa...      0\n3  I am going to start reading the Harry Potter s...      1\n4       Is it just me, or does Harry Potter suck?...      0",
            "text/html": "<div>\n<style scoped>\n    .dataframe tbody tr th:only-of-type {\n        vertical-align: middle;\n    }\n\n    .dataframe tbody tr th {\n        vertical-align: top;\n    }\n\n    .dataframe thead th {\n        text-align: right;\n    }\n</style>\n<table border=\"1\" class=\"dataframe\">\n  <thead>\n    <tr style=\"text-align: right;\">\n      <th></th>\n      <th>sentence</th>\n      <th>label</th>\n    </tr>\n  </thead>\n  <tbody>\n    <tr>\n      <th>0</th>\n      <td>Ok brokeback mountain is such a horrible movie.</td>\n      <td>0</td>\n    </tr>\n    <tr>\n      <th>1</th>\n      <td>Brokeback Mountain was so awesome.</td>\n      <td>1</td>\n    </tr>\n    <tr>\n      <th>2</th>\n      <td>friday hung out with kelsie and we went and sa...</td>\n      <td>0</td>\n    </tr>\n    <tr>\n      <th>3</th>\n      <td>I am going to start reading the Harry Potter s...</td>\n      <td>1</td>\n    </tr>\n    <tr>\n      <th>4</th>\n      <td>Is it just me, or does Harry Potter suck?...</td>\n      <td>0</td>\n    </tr>\n  </tbody>\n</table>\n</div>"
          },
          "metadata": {}
        }
      ]
    },
    {
      "metadata": {
        "trusted": true,
        "_uuid": "0b257204326ce866dd18c049e3bc38835cc92288"
      },
      "cell_type": "code",
      "source": "print(data_train.dtypes)\nprint(data_train.describe())\nprint(data_train.info())",
      "execution_count": 4,
      "outputs": [
        {
          "output_type": "stream",
          "text": "sentence    object\nlabel        int64\ndtype: object\n             label\ncount  5668.000000\nmean      0.565279\nstd       0.495764\nmin       0.000000\n25%       0.000000\n50%       1.000000\n75%       1.000000\nmax       1.000000\n<class 'pandas.core.frame.DataFrame'>\nRangeIndex: 5668 entries, 0 to 5667\nData columns (total 2 columns):\nsentence    5668 non-null object\nlabel       5668 non-null int64\ndtypes: int64(1), object(1)\nmemory usage: 88.6+ KB\nNone\n",
          "name": "stdout"
        }
      ]
    },
    {
      "metadata": {
        "trusted": true,
        "_uuid": "3a6605f7649d775843c89860e7a2c733feb72b7f"
      },
      "cell_type": "code",
      "source": "data_train.label.value_counts()",
      "execution_count": 5,
      "outputs": [
        {
          "output_type": "execute_result",
          "execution_count": 5,
          "data": {
            "text/plain": "1    3204\n0    2464\nName: label, dtype: int64"
          },
          "metadata": {}
        }
      ]
    },
    {
      "metadata": {
        "trusted": true,
        "_uuid": "40ecd8c391b00bda0acd8fb8d01e925761672188"
      },
      "cell_type": "code",
      "source": "print(data_train.shape, data_test.shape)",
      "execution_count": 6,
      "outputs": [
        {
          "output_type": "stream",
          "text": "(5668, 2) (1418, 1)\n",
          "name": "stdout"
        }
      ]
    },
    {
      "metadata": {
        "trusted": true,
        "collapsed": true,
        "_uuid": "bf021ab34e4b5d9d54ea3459e95ae1556c51c530"
      },
      "cell_type": "code",
      "source": "from sklearn.feature_extraction.text import CountVectorizer",
      "execution_count": 7,
      "outputs": []
    },
    {
      "metadata": {
        "trusted": true,
        "collapsed": true,
        "_uuid": "2c1319aaf93949758855b48757c9998d0c6bb15d"
      },
      "cell_type": "code",
      "source": "vectorizer = CountVectorizer()",
      "execution_count": 8,
      "outputs": []
    },
    {
      "metadata": {
        "trusted": true,
        "_uuid": "fb07a49a6a7329003f0ce1f98e408989072b2f40",
        "collapsed": true
      },
      "cell_type": "code",
      "source": "train_vector = vectorizer.fit_transform(data_train.sentence)\ntest_vector = vectorizer.transform(data_test.sentence)",
      "execution_count": 9,
      "outputs": []
    },
    {
      "metadata": {
        "_uuid": "946b467deb2cbd61f0f7c0090a3cd6ab573eadf8"
      },
      "cell_type": "markdown",
      "source": "### Visualize Word Frequency"
    },
    {
      "metadata": {
        "trusted": true,
        "_uuid": "fe772f9ecc8c35eebaea170ca9f4fce929ab488f",
        "collapsed": true
      },
      "cell_type": "code",
      "source": "WordFrequency = pd.DataFrame({'Word': vectorizer.get_feature_names(), 'Count': train_vector.toarray().sum(axis=0)})",
      "execution_count": 10,
      "outputs": []
    },
    {
      "metadata": {
        "trusted": true,
        "_uuid": "8a9c8c566778a9fc659cfac1204b8a9284af23f6",
        "collapsed": true
      },
      "cell_type": "code",
      "source": "WordFrequency['Frequency'] = WordFrequency['Count'] / WordFrequency['Count'].sum()",
      "execution_count": 11,
      "outputs": []
    },
    {
      "metadata": {
        "trusted": true,
        "_uuid": "d5b62a8671ea2e2bcc734ca39628ef43eee8871c"
      },
      "cell_type": "code",
      "source": "plt.plot(WordFrequency.Frequency)\nplt.xlabel('Word Index')\nplt.ylabel('Word Frequency')\nplt.show()",
      "execution_count": 12,
      "outputs": [
        {
          "output_type": "display_data",
          "data": {
            "text/plain": "<matplotlib.figure.Figure at 0x7f8160fa5c50>",
            "image/png": "[encoded data removed]"
          },
          "metadata": {}
        }
      ]
    },
    {
      "metadata": {
        "_uuid": "ef992c9c3de08b6ba270eda009baf8d63a877a38"
      },
      "cell_type": "markdown",
      "source": "### Sort WordFrequency in descending order"
    },
    {
      "metadata": {
        "trusted": true,
        "_uuid": "a413341ae01ad8893a27cebd748c073812319f9d"
      },
      "cell_type": "code",
      "source": "WordFrequency_sort = WordFrequency.sort_values(by='Frequency', ascending=False)\nWordFrequency_sort.head()",
      "execution_count": 13,
      "outputs": [
        {
          "output_type": "execute_result",
          "execution_count": 13,
          "data": {
            "text/plain": "        Word  Count  Frequency\n1657     the   2656   0.047622\n83       and   1734   0.031090\n770    harry   1685   0.030212\n1304  potter   1685   0.030212\n323     code   1616   0.028975",
            "text/html": "<div>\n<style scoped>\n    .dataframe tbody tr th:only-of-type {\n        vertical-align: middle;\n    }\n\n    .dataframe tbody tr th {\n        vertical-align: top;\n    }\n\n    .dataframe thead th {\n        text-align: right;\n    }\n</style>\n<table border=\"1\" class=\"dataframe\">\n  <thead>\n    <tr style=\"text-align: right;\">\n      <th></th>\n      <th>Word</th>\n      <th>Count</th>\n      <th>Frequency</th>\n    </tr>\n  </thead>\n  <tbody>\n    <tr>\n      <th>1657</th>\n      <td>the</td>\n      <td>2656</td>\n      <td>0.047622</td>\n    </tr>\n    <tr>\n      <th>83</th>\n      <td>and</td>\n      <td>1734</td>\n      <td>0.031090</td>\n    </tr>\n    <tr>\n      <th>770</th>\n      <td>harry</td>\n      <td>1685</td>\n      <td>0.030212</td>\n    </tr>\n    <tr>\n      <th>1304</th>\n      <td>potter</td>\n      <td>1685</td>\n      <td>0.030212</td>\n    </tr>\n    <tr>\n      <th>323</th>\n      <td>code</td>\n      <td>1616</td>\n      <td>0.028975</td>\n    </tr>\n  </tbody>\n</table>\n</div>"
          },
          "metadata": {}
        }
      ]
    },
    {
      "metadata": {
        "_uuid": "e3146956a755f1ae0e7b109d9e35d7a43d36f357"
      },
      "cell_type": "markdown",
      "source": "## Model 1: Naive Bayes"
    },
    {
      "metadata": {
        "trusted": true,
        "_uuid": "0d5ae6288059d5134e35a440e9f2de8628301808"
      },
      "cell_type": "code",
      "source": "from sklearn.naive_bayes import MultinomialNB\nfrom sklearn.cross_validation import cross_val_score",
      "execution_count": 14,
      "outputs": [
        {
          "output_type": "stream",
          "text": "/opt/conda/lib/python3.6/site-packages/sklearn/cross_validation.py:41: DeprecationWarning: This module was deprecated in version 0.18 in favor of the model_selection module into which all the refactored classes and functions are moved. Also note that the interface of the new CV iterators are different from that of this module. This module will be removed in 0.20.\n  \"This module will be removed in 0.20.\", DeprecationWarning)\n",
          "name": "stderr"
        }
      ]
    },
    {
      "metadata": {
        "trusted": true,
        "collapsed": true,
        "_uuid": "619a2a88fed6b2f3815463654239172112ed9cbb"
      },
      "cell_type": "code",
      "source": "clf1 = MultinomialNB()",
      "execution_count": 15,
      "outputs": []
    },
    {
      "metadata": {
        "trusted": true,
        "_uuid": "8cb6a3b886f6ed036e88ddcc6e9b8aec51d55d4e"
      },
      "cell_type": "code",
      "source": "cross_val_acc = cross_val_score(clf1, train_vector, data_train.label.values, cv=10, scoring='accuracy')\nprint(cross_val_acc)\nprint(cross_val_acc.mean())",
      "execution_count": 16,
      "outputs": [
        {
          "output_type": "stream",
          "text": "[0.97007042 0.99119718 0.98591549 0.97183099 0.98233216 0.97349823\n 0.97879859 0.98233216 0.97879859 0.9770318 ]\n0.9791805603941672\n",
          "name": "stdout"
        }
      ]
    },
    {
      "metadata": {
        "trusted": true,
        "collapsed": true,
        "_uuid": "4e639564345e297260052eeedcdd7b0c5b96c828"
      },
      "cell_type": "code",
      "source": "clf1.fit(train_vector, data_train.label.values)\npredictions = clf1.predict(test_vector)",
      "execution_count": 17,
      "outputs": []
    },
    {
      "metadata": {
        "trusted": true,
        "_uuid": "82ee61dfeae31ce1d0c0675421f3e3310d107273",
        "collapsed": true
      },
      "cell_type": "code",
      "source": "solution1 = pd.DataFrame(list(zip(data_test.sentence, predictions)), columns=['sentence', 'label'])",
      "execution_count": 18,
      "outputs": []
    },
    {
      "metadata": {
        "trusted": true,
        "_uuid": "4625ef83a189e87dccf07ab258d563c5d53cf15e",
        "collapsed": true
      },
      "cell_type": "code",
      "source": "solution1.to_csv('./solution1_naive_bayes.csv', index=False)\n# Accuracy in testing data: 0.97461",
      "execution_count": 19,
      "outputs": []
    },
    {
      "metadata": {
        "_uuid": "34ed7ad5a9458eebe8f345bd82903e5a0a9fa152"
      },
      "cell_type": "markdown",
      "source": "## Model 2: Random Forest"
    },
    {
      "metadata": {
        "trusted": true,
        "collapsed": true,
        "_uuid": "24a470e239cdaf99a0444a8ea50fdde3b878773f"
      },
      "cell_type": "code",
      "source": "from sklearn.ensemble import RandomForestClassifier\nclf2 = RandomForestClassifier(n_jobs=-1)",
      "execution_count": 20,
      "outputs": []
    },
    {
      "metadata": {
        "trusted": true,
        "_uuid": "ff815c805119f787aabfd8d044eb00286011d3c4"
      },
      "cell_type": "code",
      "source": "cross_val_acc2 = cross_val_score(clf2, train_vector, data_train.label.values, cv=10, scoring='accuracy')\nprint(cross_val_acc2)\nprint(cross_val_acc2.mean())",
      "execution_count": 21,
      "outputs": [
        {
          "output_type": "stream",
          "text": "[0.97711268 0.98767606 0.98591549 0.98943662 0.98233216 0.97879859\n 0.98056537 0.98586572 0.98233216 0.98233216]\n0.9832366993480317\n",
          "name": "stdout"
        }
      ]
    },
    {
      "metadata": {
        "trusted": true,
        "collapsed": true,
        "_uuid": "8bcfc3a8906d489ce45fd4b043e988803ecf5a38"
      },
      "cell_type": "code",
      "source": "clf2.fit(train_vector, data_train.label.values)\nprediction2 = clf2.predict(test_vector)",
      "execution_count": 22,
      "outputs": []
    },
    {
      "metadata": {
        "trusted": true,
        "collapsed": true,
        "_uuid": "4fdd8049f3865af3cf5b9a57cc4ea30051475b28"
      },
      "cell_type": "code",
      "source": "solution2 = pd.DataFrame(list(zip(data_test.sentence, prediction2)), columns=['sentence','label'])",
      "execution_count": 23,
      "outputs": []
    },
    {
      "metadata": {
        "trusted": true,
        "_uuid": "9361c321e14c816588f224f4d3cf044a6f04ec8e",
        "collapsed": true
      },
      "cell_type": "code",
      "source": "solution2.to_csv('./solution2_random_forest.csv', index=False)\n# Accuracy in testing data: 0.97884",
      "execution_count": 24,
      "outputs": []
    },
    {
      "metadata": {
        "_uuid": "0f78381e2b0f8d7b02e99f3f3ac37e932bd4bb3a"
      },
      "cell_type": "markdown",
      "source": "### Use GridSearchCV"
    },
    {
      "metadata": {
        "trusted": true,
        "collapsed": true,
        "_uuid": "f8d563af431eb70565fbce21825fb7bfaf62a2fe"
      },
      "cell_type": "code",
      "source": "from pprint import pprint\nfrom sklearn.model_selection import GridSearchCV",
      "execution_count": 25,
      "outputs": []
    },
    {
      "metadata": {
        "trusted": true,
        "_uuid": "b81404dff4aba009844f00ffc1c8983af5411df0"
      },
      "cell_type": "code",
      "source": "pprint(clf2.get_params())",
      "execution_count": 26,
      "outputs": [
        {
          "output_type": "stream",
          "text": "{'bootstrap': True,\n 'class_weight': None,\n 'criterion': 'gini',\n 'max_depth': None,\n 'max_features': 'auto',\n 'max_leaf_nodes': None,\n 'min_impurity_decrease': 0.0,\n 'min_impurity_split': None,\n 'min_samples_leaf': 1,\n 'min_samples_split': 2,\n 'min_weight_fraction_leaf': 0.0,\n 'n_estimators': 10,\n 'n_jobs': -1,\n 'oob_score': False,\n 'random_state': None,\n 'verbose': 0,\n 'warm_start': False}\n",
          "name": "stdout"
        }
      ]
    },
    {
      "metadata": {
        "trusted": true,
        "_uuid": "7f88dfbc47012ff732ce767d41e3f34cfd20de5d"
      },
      "cell_type": "code",
      "source": "param_grid = {\n             'class_weight': ['balanced', None],\n             'criterion': ['gini', 'entropy'],\n             'max_depth': [None, 1, 5, 10],\n             'max_features': ['auto', 'log2', None],\n             'n_estimators': [5, 10, 20]}\ncv_clf2 = GridSearchCV(estimator=clf2, param_grid=param_grid, scoring='accuracy', verbose=0, n_jobs=-1)\ncv_clf2.fit(train_vector, data_train.label.values)\nbest_parameters = cv_clf2.best_params_\nprint('The best parameters for using RF model is: ', best_parameters)",
      "execution_count": 27,
      "outputs": [
        {
          "output_type": "stream",
          "text": "The best parameters for using RF model is:  {'class_weight': 'balanced', 'criterion': 'gini', 'max_depth': None, 'max_features': None, 'n_estimators': 5}\n",
          "name": "stdout"
        },
        {
          "output_type": "stream",
          "text": "/opt/conda/lib/python3.6/site-packages/sklearn/model_selection/_search.py:735: DeprecationWarning: The default of the `iid` parameter will change from True to False in version 0.22 and will be removed in 0.24. This will change numeric results when test-set sizes are unequal.\n  DeprecationWarning)\n",
          "name": "stderr"
        }
      ]
    },
    {
      "metadata": {
        "trusted": true,
        "collapsed": true,
        "_uuid": "4f0c0a2cab00bd0540cb6150dbc5645a9906e65a"
      },
      "cell_type": "code",
      "source": "clf2_balanced_gini = RandomForestClassifier(class_weight='balanced', n_estimators=20)\nclf2_entropy = RandomForestClassifier(criterion='entropy', n_estimators=20)\nclf2_gini = RandomForestClassifier(n_estimators=20)",
      "execution_count": 28,
      "outputs": []
    },
    {
      "metadata": {
        "trusted": true,
        "_uuid": "90cd3706c92c29e8d6f7ec66db932f093f238747"
      },
      "cell_type": "code",
      "source": "RF_score1 = cross_val_score(clf2_balanced_gini, train_vector, data_train.label.values, cv=10, scoring='accuracy')\nprint(RF_score1)\nprint(RF_score1.mean())",
      "execution_count": 29,
      "outputs": [
        {
          "output_type": "stream",
          "text": "[0.97359155 0.99471831 0.99471831 0.99647887 0.98409894 0.97349823\n 0.98409894 0.99293286 0.98763251 0.98763251]\n0.9869401035186384\n",
          "name": "stdout"
        }
      ]
    },
    {
      "metadata": {
        "trusted": true,
        "_uuid": "f37abaae7af64dd2b2350ff9953f3de0c3e20474"
      },
      "cell_type": "code",
      "source": "RF_score2 = cross_val_score(clf2_entropy, train_vector, data_train.label.values, cv=10, scoring='accuracy')\nprint(RF_score2)\nprint(RF_score2.mean())",
      "execution_count": 30,
      "outputs": [
        {
          "output_type": "stream",
          "text": "[0.9806338  0.99471831 0.98591549 0.98943662 0.98586572 0.98056537\n 0.98586572 0.99116608 0.98586572 0.98586572]\n0.9865898571641866\n",
          "name": "stdout"
        }
      ]
    },
    {
      "metadata": {
        "trusted": true,
        "_uuid": "61df55b303b4300e6fc4598d4430b5f7b50ccfe5"
      },
      "cell_type": "code",
      "source": "RF_score3 = cross_val_score(clf2_gini, train_vector, data_train.label.values, cv=10, scoring='accuracy')\nprint(RF_score3)\nprint(RF_score3.mean())",
      "execution_count": 31,
      "outputs": [
        {
          "output_type": "stream",
          "text": "[0.97007042 0.98767606 0.98943662 0.98943662 0.98233216 0.97349823\n 0.98586572 0.99293286 0.98939929 0.98939929]\n0.9850047280147315\n",
          "name": "stdout"
        }
      ]
    },
    {
      "metadata": {
        "trusted": true,
        "collapsed": true,
        "_uuid": "0333efdd3ab761bfc02a6f145abef4ca8ec983ac"
      },
      "cell_type": "code",
      "source": "clf2_balanced_gini.fit(train_vector, data_train.label.values)\nprediction2_tuned = clf2_balanced_gini.predict(test_vector)\nsolution2_tuned = pd.DataFrame(list(zip(data_test.sentence, prediction2_tuned)), columns=['sentence', 'label'])",
      "execution_count": 32,
      "outputs": []
    },
    {
      "metadata": {
        "trusted": true,
        "_uuid": "9cbbe7e50e827263869c66f613e24026f77ba85b",
        "collapsed": true
      },
      "cell_type": "code",
      "source": "solution2_tuned.to_csv('./solution2_RF_tuned.csv', index=False)",
      "execution_count": 33,
      "outputs": []
    },
    {
      "metadata": {
        "_uuid": "b2757fd2650473b6b51ea5d33d35d7af31cbb2f6"
      },
      "cell_type": "markdown",
      "source": "## Model 3: Logistic Regression (Use GridSearchCV to tune hyper-parameters)"
    },
    {
      "metadata": {
        "trusted": true,
        "collapsed": true,
        "_uuid": "edb47ae537a6a8734743b9f5fd04925cb295f25f"
      },
      "cell_type": "code",
      "source": "# Use Logistic Regression directly\nfrom sklearn.linear_model import LogisticRegression\nclf3_1 = LogisticRegression()",
      "execution_count": 34,
      "outputs": []
    },
    {
      "metadata": {
        "trusted": true,
        "_uuid": "7105467f4990b9214646a192ebab48a0d90cc46b"
      },
      "cell_type": "code",
      "source": "cross_val_acc3_1 = cross_val_score(clf3_1, train_vector, data_train.label.values, cv=10, scoring='accuracy')\nprint(cross_val_acc3_1)\nprint(cross_val_acc3_1.mean())",
      "execution_count": 35,
      "outputs": [
        {
          "output_type": "stream",
          "text": "[0.98591549 0.99823944 0.99295775 0.99471831 0.99293286 0.99116608\n 0.99116608 0.99293286 0.99469965 0.98763251]\n0.992236102125118\n",
          "name": "stdout"
        }
      ]
    },
    {
      "metadata": {
        "_uuid": "fe76d02cf05004ee75476625892788c109797247"
      },
      "cell_type": "markdown",
      "source": "### Use GridSearchCV"
    },
    {
      "metadata": {
        "trusted": true,
        "_uuid": "b1cd6968dfe141d06f29c549cdaa7e3482cba4c7"
      },
      "cell_type": "code",
      "source": "pprint(clf3_1.get_params())",
      "execution_count": 36,
      "outputs": [
        {
          "output_type": "stream",
          "text": "{'C': 1.0,\n 'class_weight': None,\n 'dual': False,\n 'fit_intercept': True,\n 'intercept_scaling': 1,\n 'max_iter': 100,\n 'multi_class': 'ovr',\n 'n_jobs': 1,\n 'penalty': 'l2',\n 'random_state': None,\n 'solver': 'liblinear',\n 'tol': 0.0001,\n 'verbose': 0,\n 'warm_start': False}\n",
          "name": "stdout"
        }
      ]
    },
    {
      "metadata": {
        "trusted": true,
        "_uuid": "cd0704a169654659c2e3052c13febe1f5f819437"
      },
      "cell_type": "code",
      "source": "param_grid = {'penalty': ['l1', 'l2'],\n             'class_weight': ['balanced', None],\n             'C': [0.1, 1, 10]\n             }\nclf3_2 = GridSearchCV(estimator=clf3_1, param_grid=param_grid, scoring='accuracy', verbose=1, n_jobs=-1)\nclf3_2.fit(train_vector, data_train.label.values)\nbest_param = clf3_2.best_params_\nprint('The best parameters for using LR model is: ', best_param)",
      "execution_count": 37,
      "outputs": [
        {
          "output_type": "stream",
          "text": "Fitting 3 folds for each of 12 candidates, totalling 36 fits\n",
          "name": "stdout"
        },
        {
          "output_type": "stream",
          "text": "[Parallel(n_jobs=-1)]: Done  10 out of  36 | elapsed:    0.1s remaining:    0.3s\n[Parallel(n_jobs=-1)]: Done  36 out of  36 | elapsed:    0.3s finished\n/opt/conda/lib/python3.6/site-packages/sklearn/model_selection/_search.py:735: DeprecationWarning: The default of the `iid` parameter will change from True to False in version 0.22 and will be removed in 0.24. This will change numeric results when test-set sizes are unequal.\n  DeprecationWarning)\n",
          "name": "stderr"
        },
        {
          "output_type": "stream",
          "text": "The best parameters for using LR model is:  {'C': 10, 'class_weight': None, 'penalty': 'l2'}\n",
          "name": "stdout"
        }
      ]
    },
    {
      "metadata": {
        "trusted": true,
        "_uuid": "108c74f172a1fc8e6887ff52cc6ce12db23268fd"
      },
      "cell_type": "code",
      "source": "clf3_2 = LogisticRegression(C=9.4)\ncross_val_acc3_2 = cross_val_score(clf3_2, train_vector, data_train.label.values, cv=10, scoring='accuracy')\nprint(cross_val_acc3_2)\nprint(cross_val_acc3_2.mean())",
      "execution_count": 38,
      "outputs": [
        {
          "output_type": "stream",
          "text": "[0.98943662 0.99823944 0.99295775 0.99647887 0.99469965 0.99293286\n 0.99116608 0.99293286 0.99293286 0.99116608]\n0.9932943064748917\n",
          "name": "stdout"
        }
      ]
    },
    {
      "metadata": {
        "trusted": true,
        "_uuid": "24a816450ffb933389bc310f23b11716f4fbade8",
        "collapsed": true
      },
      "cell_type": "code",
      "source": "clf3_1.fit(train_vector, data_train.label.values)\nclf3_2.fit(train_vector, data_train.label.values)\nprediction3_1 = clf3_1.predict(test_vector)\nprediction3_2 = clf3_2.predict(test_vector)",
      "execution_count": 39,
      "outputs": []
    },
    {
      "metadata": {
        "trusted": true,
        "collapsed": true,
        "_uuid": "978a17935247f73b99b20c358ec69500b9cbd148"
      },
      "cell_type": "code",
      "source": "solution3_origin_LR = pd.DataFrame(list(zip(data_test.sentence, prediction3_1)), columns=['sentence', 'label'])\nsolution3_CV_LR = pd.DataFrame(list(zip(data_test.sentence, prediction3_2)), columns=['sentence', 'label'])",
      "execution_count": 40,
      "outputs": []
    },
    {
      "metadata": {
        "trusted": true,
        "_uuid": "10a74c7530339f640865b8eda2d61a7b39440d8c",
        "collapsed": true
      },
      "cell_type": "code",
      "source": "solution3_origin_LR.to_csv('./solution3_origin_LR.csv', index=False)\n# Accuracy in testing data: 0.99083",
      "execution_count": 41,
      "outputs": []
    },
    {
      "metadata": {
        "trusted": true,
        "_uuid": "b6cca0daedb19c5d14c4ee481e45a4fc91b3b786",
        "collapsed": true
      },
      "cell_type": "code",
      "source": "solution3_CV_LR.to_csv('./solution3_CV_LR.csv', index=False)\n# Accuracy in testing data:0.99083",
      "execution_count": 42,
      "outputs": []
    },
    {
      "metadata": {
        "trusted": true,
        "collapsed": true,
        "_uuid": "4eb50d789e5281f02f816506f384cd54207203fd"
      },
      "cell_type": "markdown",
      "source": "## Model 4: RNN"
    },
    {
      "metadata": {
        "trusted": true,
        "collapsed": true,
        "_uuid": "f5b080c7d72f94c6373457b776275a778254ee8c"
      },
      "cell_type": "code",
      "source": "import os\nimport sys\nimport time\n\nclass Dataset():\n    def __init__(self,data,label):\n        self._index_in_epoch = 0\n        self._epochs_completed = 0\n        self._data = data\n        self._label = label\n        assert(data.shape[0] == label.shape[0])\n        self._num_examples = data.shape[0]\n        pass\n\n    @property\n    def data(self):\n        return self._data\n    \n    @property\n    def label(self):\n        return self._label\n\n    def next_batch(self,batch_size,shuffle = True):\n        start = self._index_in_epoch\n        if start == 0 and self._epochs_completed == 0:\n            idx = np.arange(0, self._num_examples)  # get all possible indexes\n            np.random.shuffle(idx)  # shuffle indexe\n            self._data = self.data[idx]  # get list of `num` random samples\n            self._label = self.label[idx]\n\n        # go to the next batch\n        if start + batch_size > self._num_examples:\n            self._epochs_completed += 1\n            rest_num_examples = self._num_examples - start\n            data_rest_part = self.data[start:self._num_examples]\n            label_rest_part = self.label[start:self._num_examples]\n            idx0 = np.arange(0, self._num_examples)  # get all possible indexes\n            np.random.shuffle(idx0)  # shuffle indexes\n            self._data = self.data[idx0]  # get list of `num` random samples\n            self._label = self.label[idx0]\n\n            start = 0\n            self._index_in_epoch = batch_size - rest_num_examples #avoid the case where the #sample != integar times of batch_size\n            end =  self._index_in_epoch  \n            data_new_part =  self._data[start:end]  \n            label_new_part = self._label[start:end]\n            return np.concatenate((data_rest_part, data_new_part), axis=0),np.concatenate((label_rest_part, label_new_part), axis=0)\n        else:\n            self._index_in_epoch += batch_size\n            end = self._index_in_epoch\n            return self._data[start:end],self._label[start:end]\n\nclass ProgressBar():\n    def __init__(self,worksum,info=\"\",auto_display=True):\n        self.worksum = worksum\n        self.info = info\n        self.finishsum = 0\n        self.auto_display = auto_display\n    def startjob(self):\n        self.begin_time = time.time()\n    def complete(self,num):\n        self.gaptime = time.time() - self.begin_time\n        self.finishsum += num\n        if self.auto_display == True:\n            self.display_progress_bar()\n    def display_progress_bar(self):\n        percent = self.finishsum * 100 / self.worksum\n        eta_time = self.gaptime * 100 / (percent + 0.001) - self.gaptime\n        strprogress = \"[\" + \"=\" * int(percent // 2) + \">\" + \"-\" * int(50 - percent // 2) + \"]\"\n        str_log = (\"%s %.2f %% %s %s/%s \\t used:%ds eta:%d s\" % (self.info,percent,strprogress,self.finishsum,self.worksum,self.gaptime,eta_time))\n        sys.stdout.write('\\r' + str_log)\n\ndef get_dataset(paths):\n    dataset = []\n    for path in paths.split(':'):\n        path_exp = os.path.expanduser(path)\n        classes = os.listdir(path_exp)\n        classes.sort()\n        nrof_classes = len(classes)\n        for i in range(nrof_classes):\n            class_name = classes[i]\n            facedir = os.path.join(path_exp, class_name)\n            if os.path.isdir(facedir):\n                images = os.listdir(facedir)\n                image_paths = [os.path.join(facedir,img) for img in images]\n                dataset.append(ImageClass(class_name, image_paths))\n  \n    return dataset\n\nclass ImageClass():\n    \"Stores the paths to images for a given class\"\n    def __init__(self, name, image_paths):\n        self.name = name\n        self.image_paths = image_paths\n  \n    def __str__(self):\n        return self.name + ', ' + str(len(self.image_paths)) + ' images'\n  \n    def __len__(self):\n        return len(self.image_paths)\n\ndef split_dataset(dataset, split_ratio, mode):\n    if mode=='SPLIT_CLASSES':\n        nrof_classes = len(dataset)\n        class_indices = np.arange(nrof_classes)\n        np.random.shuffle(class_indices)\n        split = int(round(nrof_classes*split_ratio))\n        train_set = [dataset[i] for i in class_indices[0:split]]\n        test_set = [dataset[i] for i in class_indices[split:-1]]\n    elif mode=='SPLIT_IMAGES':\n        train_set = []\n        test_set = []\n        min_nrof_images = 2\n        for cls in dataset:\n            paths = cls.image_paths\n            np.random.shuffle(paths)\n            split = int(round(len(paths)*split_ratio))\n            if split<min_nrof_images:\n                continue  # Not enough images for test set. Skip class...\n            train_set.append(ImageClass(cls.name, paths[0:split]))\n            test_set.append(ImageClass(cls.name, paths[split:-1]))\n    else:\n        raise ValueError('Invalid train/test split mode \"%s\"' % mode)\n    return train_set, test_set",
      "execution_count": 43,
      "outputs": []
    },
    {
      "metadata": {
        "trusted": true,
        "collapsed": true,
        "_uuid": "300b0361fddd44237b1994cb6ba3d126866c4d73"
      },
      "cell_type": "code",
      "source": "import collections\nimport tensorflow as tf\n%matplotlib inline",
      "execution_count": 44,
      "outputs": []
    },
    {
      "metadata": {
        "trusted": true,
        "_uuid": "8012b9d8cd0e4560767c60b0705d646d92779999"
      },
      "cell_type": "code",
      "source": "data_train[data_train['label'] == 1].sentence.values",
      "execution_count": 45,
      "outputs": [
        {
          "output_type": "execute_result",
          "execution_count": 45,
          "data": {
            "text/plain": "array(['Brokeback Mountain was so awesome.',\n       'I am going to start reading the Harry Potter series again because that is one awesome story.',\n       'I am going to start reading the Harry Potter series again because that is one awesome story.',\n       ..., 'Brokeback Mountain was so awesome.',\n       'Brokeback Mountain was so awesome.',\n       'The Da Vinci Code was absolutely AWESOME!'], dtype=object)"
          },
          "metadata": {}
        }
      ]
    },
    {
      "metadata": {
        "trusted": true,
        "_uuid": "2e5301224be1b6f0e1670cb0971943e460f91133",
        "collapsed": true
      },
      "cell_type": "code",
      "source": "pos_lines = []\npess_lines = []\n\npb = ProgressBar(worksum=10000000)\npb.startjob()\n\nfor pos_line in data_train[data_train['label'] == 1].sentence.values:\n    pos_linesp = [i.lower() for i in pos_line.strip(\"\\n\").split()]\n    pos_lines.append(pos_linesp)\n\nfor pess_line in data_train[data_train['label'] == 0].sentence.values:\n    pess_linesp = [i.lower() for i in pess_line.strip(\"\\n\").split()]\n    pess_lines.append(pess_linesp)\n\n\n\n\n# if len(pos_linesp) <= sentlength and len(pess_linesp) <= sentlength:\n#     pos_lines.append(pos_linesp)\n#     pess_lines.append(pess_linesp)\n# if (num // 2) % 1000 == 0:\n#     pb.complete(1000)\n            \n        #if num // 2 >= 1000000:\n        #    break",
      "execution_count": 46,
      "outputs": []
    },
    {
      "metadata": {
        "trusted": true,
        "_uuid": "224b816ae4dc58613ee1b6cda0048e7a322554fe"
      },
      "cell_type": "code",
      "source": "len(pos_lines), len(pess_lines)",
      "execution_count": 47,
      "outputs": [
        {
          "output_type": "execute_result",
          "execution_count": 47,
          "data": {
            "text/plain": "(3204, 2464)"
          },
          "metadata": {}
        }
      ]
    },
    {
      "metadata": {
        "trusted": true,
        "_uuid": "736c747728090257c3586a74bc76f6ae93ad66d3",
        "collapsed": true
      },
      "cell_type": "code",
      "source": "words = []\n\nfor sent in pos_lines:\n    for word in sent:\n        words.append(word)\n        \nfor sent in pess_lines:\n    for word in sent:\n        words.append(word)",
      "execution_count": 48,
      "outputs": []
    },
    {
      "metadata": {
        "trusted": true,
        "collapsed": true,
        "_uuid": "3f9a413578d48af29b9c144996e4af09f076663d"
      },
      "cell_type": "code",
      "source": "from collections import Counter",
      "execution_count": 49,
      "outputs": []
    },
    {
      "metadata": {
        "trusted": true,
        "_uuid": "931c6aa67e13dea267004af6a746030df7b6806b"
      },
      "cell_type": "code",
      "source": "Counter(words).most_common(15)",
      "execution_count": 50,
      "outputs": [
        {
          "output_type": "execute_result",
          "execution_count": 50,
          "data": {
            "text/plain": "[('i', 3661),\n ('the', 2589),\n ('and', 1730),\n ('harry', 1680),\n ('vinci', 1615),\n ('da', 1613),\n ('brokeback', 1590),\n ('code', 1313),\n ('love', 1245),\n ('is', 1223),\n ('a', 973),\n ('mountain', 972),\n ('was', 939),\n ('mission', 854),\n ('potter', 767)]"
          },
          "metadata": {}
        }
      ]
    },
    {
      "metadata": {
        "trusted": true,
        "collapsed": true,
        "_uuid": "061c1fa90ccc5cb360a9900bdcdb7955f4ab0c0b"
      },
      "cell_type": "code",
      "source": "def addchar(what2ind,ind2what,char):\n    if char in what2ind:\n        return \n    ind2what[len(what2ind)] = char\n    what2ind[char] = len(what2ind)",
      "execution_count": 51,
      "outputs": []
    },
    {
      "metadata": {
        "trusted": true,
        "collapsed": true,
        "_uuid": "aacc3b1c354f4d149ee30e6ec765eb743fd620fb"
      },
      "cell_type": "code",
      "source": "# to be Done!!!",
      "execution_count": 52,
      "outputs": []
    },
    {
      "metadata": {
        "trusted": true,
        "collapsed": true,
        "_uuid": "d95a23809838f7b1f1af6781cbe2b830f12145f6"
      },
      "cell_type": "code",
      "source": "",
      "execution_count": null,
      "outputs": []
    },
    {
      "metadata": {
        "trusted": true,
        "collapsed": true,
        "_uuid": "f38fb74b02ae806015e63ccf5effc0b77210d836"
      },
      "cell_type": "code",
      "source": "",
      "execution_count": null,
      "outputs": []
    }
  ],
  "metadata": {
    "kernelspec": {
      "display_name": "Python 3",
      "language": "python",
      "name": "python3"
    },
    "language_info": {
      "name": "python",
      "version": "3.6.6",
      "mimetype": "text/x-python",
      "codemirror_mode": {
        "name": "ipython",
        "version": 3
      },
      "pygments_lexer": "ipython3",
      "nbconvert_exporter": "python",
      "file_extension": ".py"
    }
  },
  "nbformat": 4,
  "nbformat_minor": 1
}
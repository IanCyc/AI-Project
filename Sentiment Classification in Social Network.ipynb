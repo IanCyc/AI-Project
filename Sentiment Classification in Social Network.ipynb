{
  "cells": [
    {
      "metadata": {
        "_cell_guid": "79c7e3d0-c299-4dcb-8224-4455121ee9b0",
        "collapsed": true,
        "_uuid": "d629ff2d2480ee46fbb7e2d37f6b5fab8052498a",
        "trusted": false
      },
      "cell_type": "markdown",
      "source": "# Sentiment Classification"
    },
    {
      "metadata": {
        "trusted": true,
        "collapsed": true,
        "_uuid": "4334c9e7401e84862defa71ba574b05742f7ec1f"
      },
      "cell_type": "code",
      "source": "import numpy as np\nimport pandas as pd\nimport matplotlib.pyplot as plt",
      "execution_count": null,
      "outputs": []
    },
    {
      "metadata": {
        "_uuid": "041d67561bef921c9dd5c63abba9e6be0866d3e9"
      },
      "cell_type": "markdown",
      "source": "## Read data"
    },
    {
      "metadata": {
        "trusted": true,
        "collapsed": true,
        "_uuid": "96b662c0f35802f5df118bfc6b3a504558136741"
      },
      "cell_type": "code",
      "source": "data_train = pd.read_csv('../input/train.csv')\ndata_test = pd.read_csv('../input/test.csv')",
      "execution_count": null,
      "outputs": []
    },
    {
      "metadata": {
        "trusted": true,
        "_uuid": "758f67199e7b44e9e0bcb033d3a4a0374d80453b",
        "collapsed": true
      },
      "cell_type": "code",
      "source": "data_train.head()",
      "execution_count": null,
      "outputs": []
    },
    {
      "metadata": {
        "trusted": true,
        "_uuid": "0b257204326ce866dd18c049e3bc38835cc92288",
        "collapsed": true
      },
      "cell_type": "code",
      "source": "print(data_train.dtypes)\nprint(data_train.describe())\nprint(data_train.info())",
      "execution_count": null,
      "outputs": []
    },
    {
      "metadata": {
        "trusted": true,
        "_uuid": "3a6605f7649d775843c89860e7a2c733feb72b7f",
        "collapsed": true
      },
      "cell_type": "code",
      "source": "data_train.label.value_counts()",
      "execution_count": null,
      "outputs": []
    },
    {
      "metadata": {
        "trusted": true,
        "_uuid": "40ecd8c391b00bda0acd8fb8d01e925761672188",
        "collapsed": true
      },
      "cell_type": "code",
      "source": "print(data_train.shape, data_test.shape)",
      "execution_count": null,
      "outputs": []
    },
    {
      "metadata": {
        "trusted": true,
        "collapsed": true,
        "_uuid": "bf021ab34e4b5d9d54ea3459e95ae1556c51c530"
      },
      "cell_type": "code",
      "source": "from sklearn.feature_extraction.text import CountVectorizer",
      "execution_count": null,
      "outputs": []
    },
    {
      "metadata": {
        "trusted": true,
        "collapsed": true,
        "_uuid": "2c1319aaf93949758855b48757c9998d0c6bb15d"
      },
      "cell_type": "code",
      "source": "vectorizer = CountVectorizer()",
      "execution_count": null,
      "outputs": []
    },
    {
      "metadata": {
        "trusted": true,
        "_uuid": "fb07a49a6a7329003f0ce1f98e408989072b2f40",
        "collapsed": true
      },
      "cell_type": "code",
      "source": "train_vector = vectorizer.fit_transform(data_train.sentence)\ntest_vector = vectorizer.transform(data_test.sentence)",
      "execution_count": null,
      "outputs": []
    },
    {
      "metadata": {
        "_uuid": "946b467deb2cbd61f0f7c0090a3cd6ab573eadf8"
      },
      "cell_type": "markdown",
      "source": "### Visualize Word Frequency"
    },
    {
      "metadata": {
        "trusted": true,
        "_uuid": "fe772f9ecc8c35eebaea170ca9f4fce929ab488f",
        "collapsed": true
      },
      "cell_type": "code",
      "source": "WordFrequency = pd.DataFrame({'Word': vectorizer.get_feature_names(), 'Count': train_vector.toarray().sum(axis=0)})",
      "execution_count": null,
      "outputs": []
    },
    {
      "metadata": {
        "trusted": true,
        "_uuid": "8a9c8c566778a9fc659cfac1204b8a9284af23f6",
        "collapsed": true
      },
      "cell_type": "code",
      "source": "WordFrequency['Frequency'] = WordFrequency['Count'] / WordFrequency['Count'].sum()",
      "execution_count": null,
      "outputs": []
    },
    {
      "metadata": {
        "trusted": true,
        "_uuid": "d5b62a8671ea2e2bcc734ca39628ef43eee8871c",
        "collapsed": true
      },
      "cell_type": "code",
      "source": "plt.plot(WordFrequency.Frequency)\nplt.xlabel('Word Index')\nplt.ylabel('Word Frequency')\nplt.show()",
      "execution_count": null,
      "outputs": []
    },
    {
      "metadata": {
        "_uuid": "ef992c9c3de08b6ba270eda009baf8d63a877a38"
      },
      "cell_type": "markdown",
      "source": "### Sort WordFrequency in descending order"
    },
    {
      "metadata": {
        "trusted": true,
        "_uuid": "a413341ae01ad8893a27cebd748c073812319f9d",
        "collapsed": true
      },
      "cell_type": "code",
      "source": "WordFrequency_sort = WordFrequency.sort_values(by='Frequency', ascending=False)\nWordFrequency_sort.head()",
      "execution_count": null,
      "outputs": []
    },
    {
      "metadata": {
        "_uuid": "e3146956a755f1ae0e7b109d9e35d7a43d36f357"
      },
      "cell_type": "markdown",
      "source": "## Model 1: Naive Bayes"
    },
    {
      "metadata": {
        "trusted": true,
        "collapsed": true,
        "_uuid": "0d5ae6288059d5134e35a440e9f2de8628301808"
      },
      "cell_type": "code",
      "source": "from sklearn.naive_bayes import MultinomialNB\nfrom sklearn.cross_validation import cross_val_score",
      "execution_count": null,
      "outputs": []
    },
    {
      "metadata": {
        "trusted": true,
        "collapsed": true,
        "_uuid": "619a2a88fed6b2f3815463654239172112ed9cbb"
      },
      "cell_type": "code",
      "source": "clf1 = MultinomialNB()",
      "execution_count": null,
      "outputs": []
    },
    {
      "metadata": {
        "trusted": true,
        "_uuid": "8cb6a3b886f6ed036e88ddcc6e9b8aec51d55d4e",
        "collapsed": true
      },
      "cell_type": "code",
      "source": "cross_val_acc = cross_val_score(clf1, train_vector, data_train.label.values, cv=10, scoring='accuracy')\nprint(cross_val_acc)\nprint(cross_val_acc.mean())",
      "execution_count": null,
      "outputs": []
    },
    {
      "metadata": {
        "trusted": true,
        "collapsed": true,
        "_uuid": "4e639564345e297260052eeedcdd7b0c5b96c828"
      },
      "cell_type": "code",
      "source": "clf1.fit(train_vector, data_train.label.values)\npredictions = clf1.predict(test_vector)",
      "execution_count": null,
      "outputs": []
    },
    {
      "metadata": {
        "trusted": true,
        "_uuid": "82ee61dfeae31ce1d0c0675421f3e3310d107273",
        "collapsed": true
      },
      "cell_type": "code",
      "source": "solution1 = pd.DataFrame(list(zip(data_test.sentence, predictions)), columns=['sentence', 'label'])",
      "execution_count": null,
      "outputs": []
    },
    {
      "metadata": {
        "trusted": true,
        "_uuid": "4625ef83a189e87dccf07ab258d563c5d53cf15e",
        "collapsed": true
      },
      "cell_type": "code",
      "source": "solution1.to_csv('./solution1_naive_bayes.csv', index=False)\n# Accuracy in testing data: 0.97461",
      "execution_count": null,
      "outputs": []
    },
    {
      "metadata": {
        "_uuid": "34ed7ad5a9458eebe8f345bd82903e5a0a9fa152"
      },
      "cell_type": "markdown",
      "source": "## Model 2: Random Forest"
    },
    {
      "metadata": {
        "trusted": true,
        "collapsed": true,
        "_uuid": "24a470e239cdaf99a0444a8ea50fdde3b878773f"
      },
      "cell_type": "code",
      "source": "from sklearn.ensemble import RandomForestClassifier\nclf2 = RandomForestClassifier(n_jobs=-1)",
      "execution_count": null,
      "outputs": []
    },
    {
      "metadata": {
        "trusted": true,
        "_uuid": "ff815c805119f787aabfd8d044eb00286011d3c4",
        "collapsed": true
      },
      "cell_type": "code",
      "source": "cross_val_acc2 = cross_val_score(clf2, train_vector, data_train.label.values, cv=10, scoring='accuracy')\nprint(cross_val_acc2)\nprint(cross_val_acc2.mean())",
      "execution_count": null,
      "outputs": []
    },
    {
      "metadata": {
        "trusted": true,
        "collapsed": true,
        "_uuid": "8bcfc3a8906d489ce45fd4b043e988803ecf5a38"
      },
      "cell_type": "code",
      "source": "clf2.fit(train_vector, data_train.label.values)\nprediction2 = clf2.predict(test_vector)",
      "execution_count": null,
      "outputs": []
    },
    {
      "metadata": {
        "trusted": true,
        "collapsed": true,
        "_uuid": "4fdd8049f3865af3cf5b9a57cc4ea30051475b28"
      },
      "cell_type": "code",
      "source": "solution2 = pd.DataFrame(list(zip(data_test.sentence, prediction2)), columns=['sentence','label'])",
      "execution_count": null,
      "outputs": []
    },
    {
      "metadata": {
        "trusted": true,
        "_uuid": "9361c321e14c816588f224f4d3cf044a6f04ec8e",
        "collapsed": true
      },
      "cell_type": "code",
      "source": "solution2.to_csv('./solution2_random_forest.csv', index=False)\n# Accuracy in testing data: 0.97884",
      "execution_count": null,
      "outputs": []
    },
    {
      "metadata": {
        "_uuid": "0f78381e2b0f8d7b02e99f3f3ac37e932bd4bb3a"
      },
      "cell_type": "markdown",
      "source": "### Use GridSearchCV"
    },
    {
      "metadata": {
        "trusted": true,
        "collapsed": true,
        "_uuid": "f8d563af431eb70565fbce21825fb7bfaf62a2fe"
      },
      "cell_type": "code",
      "source": "from pprint import pprint\nfrom sklearn.model_selection import GridSearchCV",
      "execution_count": null,
      "outputs": []
    },
    {
      "metadata": {
        "trusted": true,
        "_uuid": "b81404dff4aba009844f00ffc1c8983af5411df0",
        "collapsed": true
      },
      "cell_type": "code",
      "source": "pprint(clf2.get_params())",
      "execution_count": null,
      "outputs": []
    },
    {
      "metadata": {
        "trusted": true,
        "_uuid": "7f88dfbc47012ff732ce767d41e3f34cfd20de5d",
        "collapsed": true
      },
      "cell_type": "code",
      "source": "param_grid = {\n             'class_weight': ['balanced', None],\n             'criterion': ['gini', 'entropy'],\n             'max_depth': [None, 1, 5, 10],\n             'max_features': ['auto', 'log2', None],\n             'n_estimators': [5, 10, 20]}\ncv_clf2 = GridSearchCV(estimator=clf2, param_grid=param_grid, scoring='accuracy', verbose=0, n_jobs=-1)\ncv_clf2.fit(train_vector, data_train.label.values)\nbest_parameters = cv_clf2.best_params_\nprint('The best parameters for using RF model is: ', best_parameters)",
      "execution_count": null,
      "outputs": []
    },
    {
      "metadata": {
        "trusted": true,
        "collapsed": true,
        "_uuid": "4f0c0a2cab00bd0540cb6150dbc5645a9906e65a"
      },
      "cell_type": "code",
      "source": "clf2_balanced_gini = RandomForestClassifier(class_weight='balanced', n_estimators=20)\nclf2_entropy = RandomForestClassifier(criterion='entropy', n_estimators=20)\nclf2_gini = RandomForestClassifier(n_estimators=20)",
      "execution_count": null,
      "outputs": []
    },
    {
      "metadata": {
        "trusted": true,
        "_uuid": "90cd3706c92c29e8d6f7ec66db932f093f238747",
        "collapsed": true
      },
      "cell_type": "code",
      "source": "RF_score1 = cross_val_score(clf2_balanced_gini, train_vector, data_train.label.values, cv=10, scoring='accuracy')\nprint(RF_score1)\nprint(RF_score1.mean())",
      "execution_count": null,
      "outputs": []
    },
    {
      "metadata": {
        "trusted": true,
        "_uuid": "f37abaae7af64dd2b2350ff9953f3de0c3e20474",
        "collapsed": true
      },
      "cell_type": "code",
      "source": "RF_score2 = cross_val_score(clf2_entropy, train_vector, data_train.label.values, cv=10, scoring='accuracy')\nprint(RF_score2)\nprint(RF_score2.mean())",
      "execution_count": null,
      "outputs": []
    },
    {
      "metadata": {
        "trusted": true,
        "_uuid": "61df55b303b4300e6fc4598d4430b5f7b50ccfe5",
        "collapsed": true
      },
      "cell_type": "code",
      "source": "RF_score3 = cross_val_score(clf2_gini, train_vector, data_train.label.values, cv=10, scoring='accuracy')\nprint(RF_score3)\nprint(RF_score3.mean())",
      "execution_count": null,
      "outputs": []
    },
    {
      "metadata": {
        "trusted": true,
        "collapsed": true,
        "_uuid": "0333efdd3ab761bfc02a6f145abef4ca8ec983ac"
      },
      "cell_type": "code",
      "source": "clf2_balanced_gini.fit(train_vector, data_train.label.values)\nprediction2_tuned = clf2_balanced_gini.predict(test_vector)\nsolution2_tuned = pd.DataFrame(list(zip(data_test.sentence, prediction2_tuned)), columns=['sentence', 'label'])",
      "execution_count": null,
      "outputs": []
    },
    {
      "metadata": {
        "trusted": true,
        "_uuid": "9cbbe7e50e827263869c66f613e24026f77ba85b",
        "collapsed": true
      },
      "cell_type": "code",
      "source": "solution2_tuned.to_csv('./solution2_RF_tuned.csv', index=False)",
      "execution_count": null,
      "outputs": []
    },
    {
      "metadata": {
        "_uuid": "b2757fd2650473b6b51ea5d33d35d7af31cbb2f6"
      },
      "cell_type": "markdown",
      "source": "## Model 3: Logistic Regression (Use GridSearchCV to tune hyper-parameters)"
    },
    {
      "metadata": {
        "trusted": true,
        "collapsed": true,
        "_uuid": "edb47ae537a6a8734743b9f5fd04925cb295f25f"
      },
      "cell_type": "code",
      "source": "# Use Logistic Regression directly\nfrom sklearn.linear_model import LogisticRegression\nclf3_1 = LogisticRegression()",
      "execution_count": null,
      "outputs": []
    },
    {
      "metadata": {
        "trusted": true,
        "_uuid": "7105467f4990b9214646a192ebab48a0d90cc46b",
        "collapsed": true
      },
      "cell_type": "code",
      "source": "cross_val_acc3_1 = cross_val_score(clf3_1, train_vector, data_train.label.values, cv=10, scoring='accuracy')\nprint(cross_val_acc3_1)\nprint(cross_val_acc3_1.mean())",
      "execution_count": null,
      "outputs": []
    },
    {
      "metadata": {
        "_uuid": "fe76d02cf05004ee75476625892788c109797247"
      },
      "cell_type": "markdown",
      "source": "### Use GridSearchCV"
    },
    {
      "metadata": {
        "trusted": true,
        "_uuid": "b1cd6968dfe141d06f29c549cdaa7e3482cba4c7",
        "collapsed": true
      },
      "cell_type": "code",
      "source": "pprint(clf3_1.get_params())",
      "execution_count": null,
      "outputs": []
    },
    {
      "metadata": {
        "trusted": true,
        "_uuid": "cd0704a169654659c2e3052c13febe1f5f819437",
        "collapsed": true
      },
      "cell_type": "code",
      "source": "param_grid = {'penalty': ['l1', 'l2'],\n             'class_weight': ['balanced', None],\n             'C': [0.1, 1, 10]\n             }\nclf3_2 = GridSearchCV(estimator=clf3_1, param_grid=param_grid, scoring='accuracy', verbose=1, n_jobs=-1)\nclf3_2.fit(train_vector, data_train.label.values)\nbest_param = clf3_2.best_params_\nprint('The best parameters for using LR model is: ', best_param)",
      "execution_count": null,
      "outputs": []
    },
    {
      "metadata": {
        "trusted": true,
        "_uuid": "108c74f172a1fc8e6887ff52cc6ce12db23268fd",
        "collapsed": true
      },
      "cell_type": "code",
      "source": "clf3_2 = LogisticRegression(C=9.4)\ncross_val_acc3_2 = cross_val_score(clf3_2, train_vector, data_train.label.values, cv=10, scoring='accuracy')\nprint(cross_val_acc3_2)\nprint(cross_val_acc3_2.mean())",
      "execution_count": null,
      "outputs": []
    },
    {
      "metadata": {
        "trusted": true,
        "_uuid": "24a816450ffb933389bc310f23b11716f4fbade8",
        "collapsed": true
      },
      "cell_type": "code",
      "source": "clf3_1.fit(train_vector, data_train.label.values)\nclf3_2.fit(train_vector, data_train.label.values)\nprediction3_1 = clf3_1.predict(test_vector)\nprediction3_2 = clf3_2.predict(test_vector)",
      "execution_count": null,
      "outputs": []
    },
    {
      "metadata": {
        "trusted": true,
        "collapsed": true,
        "_uuid": "978a17935247f73b99b20c358ec69500b9cbd148"
      },
      "cell_type": "code",
      "source": "solution3_origin_LR = pd.DataFrame(list(zip(data_test.sentence, prediction3_1)), columns=['sentence', 'label'])\nsolution3_CV_LR = pd.DataFrame(list(zip(data_test.sentence, prediction3_2)), columns=['sentence', 'label'])",
      "execution_count": null,
      "outputs": []
    },
    {
      "metadata": {
        "trusted": true,
        "_uuid": "10a74c7530339f640865b8eda2d61a7b39440d8c",
        "collapsed": true
      },
      "cell_type": "code",
      "source": "solution3_origin_LR.to_csv('./solution3_origin_LR.csv', index=False)\n# Accuracy in testing data: 0.99083",
      "execution_count": null,
      "outputs": []
    },
    {
      "metadata": {
        "trusted": true,
        "_uuid": "b6cca0daedb19c5d14c4ee481e45a4fc91b3b786",
        "collapsed": true
      },
      "cell_type": "code",
      "source": "solution3_CV_LR.to_csv('./solution3_CV_LR.csv', index=False)\n# Accuracy in testing data:0.99083",
      "execution_count": null,
      "outputs": []
    },
    {
      "metadata": {
        "trusted": true,
        "collapsed": true,
        "_uuid": "4eb50d789e5281f02f816506f384cd54207203fd"
      },
      "cell_type": "markdown",
      "source": "## Model 4: RNN"
    },
    {
      "metadata": {
        "trusted": true,
        "collapsed": true,
        "_uuid": "f5b080c7d72f94c6373457b776275a778254ee8c"
      },
      "cell_type": "code",
      "source": "import os\nimport sys\nimport time\n\nclass Dataset():\n    def __init__(self,data,label):\n        self._index_in_epoch = 0\n        self._epochs_completed = 0\n        self._data = data\n        self._label = label\n        assert(data.shape[0] == label.shape[0])\n        self._num_examples = data.shape[0]\n        pass\n\n    @property\n    def data(self):\n        return self._data\n    \n    @property\n    def label(self):\n        return self._label\n\n    def next_batch(self,batch_size,shuffle = True):\n        start = self._index_in_epoch\n        if start == 0 and self._epochs_completed == 0:\n            idx = np.arange(0, self._num_examples)  # get all possible indexes\n            np.random.shuffle(idx)  # shuffle indexe\n            self._data = self.data[idx]  # get list of `num` random samples\n            self._label = self.label[idx]\n\n        # go to the next batch\n        if start + batch_size > self._num_examples:\n            self._epochs_completed += 1\n            rest_num_examples = self._num_examples - start\n            data_rest_part = self.data[start:self._num_examples]\n            label_rest_part = self.label[start:self._num_examples]\n            idx0 = np.arange(0, self._num_examples)  # get all possible indexes\n            np.random.shuffle(idx0)  # shuffle indexes\n            self._data = self.data[idx0]  # get list of `num` random samples\n            self._label = self.label[idx0]\n\n            start = 0\n            self._index_in_epoch = batch_size - rest_num_examples #avoid the case where the #sample != integar times of batch_size\n            end =  self._index_in_epoch  \n            data_new_part =  self._data[start:end]  \n            label_new_part = self._label[start:end]\n            return np.concatenate((data_rest_part, data_new_part), axis=0),np.concatenate((label_rest_part, label_new_part), axis=0)\n        else:\n            self._index_in_epoch += batch_size\n            end = self._index_in_epoch\n            return self._data[start:end],self._label[start:end]\n\nclass ProgressBar():\n    def __init__(self,worksum,info=\"\",auto_display=True):\n        self.worksum = worksum\n        self.info = info\n        self.finishsum = 0\n        self.auto_display = auto_display\n    def startjob(self):\n        self.begin_time = time.time()\n    def complete(self,num):\n        self.gaptime = time.time() - self.begin_time\n        self.finishsum += num\n        if self.auto_display == True:\n            self.display_progress_bar()\n    def display_progress_bar(self):\n        percent = self.finishsum * 100 / self.worksum\n        eta_time = self.gaptime * 100 / (percent + 0.001) - self.gaptime\n        strprogress = \"[\" + \"=\" * int(percent // 2) + \">\" + \"-\" * int(50 - percent // 2) + \"]\"\n        str_log = (\"%s %.2f %% %s %s/%s \\t used:%ds eta:%d s\" % (self.info,percent,strprogress,self.finishsum,self.worksum,self.gaptime,eta_time))\n        sys.stdout.write('\\r' + str_log)\n\ndef get_dataset(paths):\n    dataset = []\n    for path in paths.split(':'):\n        path_exp = os.path.expanduser(path)\n        classes = os.listdir(path_exp)\n        classes.sort()\n        nrof_classes = len(classes)\n        for i in range(nrof_classes):\n            class_name = classes[i]\n            facedir = os.path.join(path_exp, class_name)\n            if os.path.isdir(facedir):\n                images = os.listdir(facedir)\n                image_paths = [os.path.join(facedir,img) for img in images]\n                dataset.append(ImageClass(class_name, image_paths))\n  \n    return dataset\n\nclass ImageClass():\n    \"Stores the paths to images for a given class\"\n    def __init__(self, name, image_paths):\n        self.name = name\n        self.image_paths = image_paths\n  \n    def __str__(self):\n        return self.name + ', ' + str(len(self.image_paths)) + ' images'\n  \n    def __len__(self):\n        return len(self.image_paths)\n\ndef split_dataset(dataset, split_ratio, mode):\n    if mode=='SPLIT_CLASSES':\n        nrof_classes = len(dataset)\n        class_indices = np.arange(nrof_classes)\n        np.random.shuffle(class_indices)\n        split = int(round(nrof_classes*split_ratio))\n        train_set = [dataset[i] for i in class_indices[0:split]]\n        test_set = [dataset[i] for i in class_indices[split:-1]]\n    elif mode=='SPLIT_IMAGES':\n        train_set = []\n        test_set = []\n        min_nrof_images = 2\n        for cls in dataset:\n            paths = cls.image_paths\n            np.random.shuffle(paths)\n            split = int(round(len(paths)*split_ratio))\n            if split<min_nrof_images:\n                continue  # Not enough images for test set. Skip class...\n            train_set.append(ImageClass(cls.name, paths[0:split]))\n            test_set.append(ImageClass(cls.name, paths[split:-1]))\n    else:\n        raise ValueError('Invalid train/test split mode \"%s\"' % mode)\n    return train_set, test_set",
      "execution_count": null,
      "outputs": []
    },
    {
      "metadata": {
        "trusted": true,
        "collapsed": true,
        "_uuid": "300b0361fddd44237b1994cb6ba3d126866c4d73"
      },
      "cell_type": "code",
      "source": "import collections\nimport tensorflow as tf\n%matplotlib inline",
      "execution_count": null,
      "outputs": []
    },
    {
      "metadata": {
        "trusted": true,
        "_uuid": "8012b9d8cd0e4560767c60b0705d646d92779999",
        "collapsed": true
      },
      "cell_type": "code",
      "source": "data_train[data_train['label'] == 1].sentence.values",
      "execution_count": null,
      "outputs": []
    },
    {
      "metadata": {
        "trusted": true,
        "_uuid": "2e5301224be1b6f0e1670cb0971943e460f91133",
        "collapsed": true
      },
      "cell_type": "code",
      "source": "pos_lines = []\npess_lines = []\n\npb = ProgressBar(worksum=10000000)\npb.startjob()\n\nfor pos_line in data_train[data_train['label'] == 1].sentence.values:\n    pos_linesp = [i.lower() for i in pos_line.strip(\"\\n\").split()]\n    pos_lines.append(pos_linesp)\n\nfor pess_line in data_train[data_train['label'] == 0].sentence.values:\n    pess_linesp = [i.lower() for i in pess_line.strip(\"\\n\").split()]\n    pess_lines.append(pess_linesp)\n\n\n\n\n# if len(pos_linesp) <= sentlength and len(pess_linesp) <= sentlength:\n#     pos_lines.append(pos_linesp)\n#     pess_lines.append(pess_linesp)\n# if (num // 2) % 1000 == 0:\n#     pb.complete(1000)\n            \n        #if num // 2 >= 1000000:\n        #    break",
      "execution_count": null,
      "outputs": []
    },
    {
      "metadata": {
        "trusted": true,
        "_uuid": "224b816ae4dc58613ee1b6cda0048e7a322554fe",
        "collapsed": true
      },
      "cell_type": "code",
      "source": "len(pos_lines), len(pess_lines)",
      "execution_count": null,
      "outputs": []
    },
    {
      "metadata": {
        "trusted": true,
        "_uuid": "736c747728090257c3586a74bc76f6ae93ad66d3",
        "collapsed": true
      },
      "cell_type": "code",
      "source": "words = []\n\nfor sent in pos_lines:\n    for word in sent:\n        words.append(word)\n        \nfor sent in pess_lines:\n    for word in sent:\n        words.append(word)",
      "execution_count": null,
      "outputs": []
    },
    {
      "metadata": {
        "trusted": true,
        "collapsed": true,
        "_uuid": "3f9a413578d48af29b9c144996e4af09f076663d"
      },
      "cell_type": "code",
      "source": "from collections import Counter",
      "execution_count": null,
      "outputs": []
    },
    {
      "metadata": {
        "trusted": true,
        "_uuid": "931c6aa67e13dea267004af6a746030df7b6806b",
        "collapsed": true
      },
      "cell_type": "code",
      "source": "Counter(words).most_common(15)",
      "execution_count": null,
      "outputs": []
    },
    {
      "metadata": {
        "trusted": true,
        "collapsed": true,
        "_uuid": "061c1fa90ccc5cb360a9900bdcdb7955f4ab0c0b"
      },
      "cell_type": "code",
      "source": "def addchar(what2ind,ind2what,char):\n    if char in what2ind:\n        return \n    ind2what[len(what2ind)] = char\n    what2ind[char] = len(what2ind)",
      "execution_count": null,
      "outputs": []
    },
    {
      "metadata": {
        "trusted": true,
        "collapsed": true,
        "_uuid": "aacc3b1c354f4d149ee30e6ec765eb743fd620fb"
      },
      "cell_type": "code",
      "source": "# to be Done!!!",
      "execution_count": null,
      "outputs": []
    },
    {
      "metadata": {
        "trusted": true,
        "collapsed": true,
        "_uuid": "d95a23809838f7b1f1af6781cbe2b830f12145f6"
      },
      "cell_type": "code",
      "source": "",
      "execution_count": null,
      "outputs": []
    }
  ],
  "metadata": {
    "kernelspec": {
      "display_name": "Python 3",
      "language": "python",
      "name": "python3"
    },
    "language_info": {
      "name": "python",
      "version": "3.6.6",
      "mimetype": "text/x-python",
      "codemirror_mode": {
        "name": "ipython",
        "version": 3
      },
      "pygments_lexer": "ipython3",
      "nbconvert_exporter": "python",
      "file_extension": ".py"
    }
  },
  "nbformat": 4,
  "nbformat_minor": 1
}